{
 "cells": [
  {
   "cell_type": "code",
   "execution_count": 1,
   "id": "9f3fe341",
   "metadata": {},
   "outputs": [],
   "source": [
    "import pandas as pd\n",
    "import numpy as np\n",
    "import matplotlib.pyplot as plp\n",
    "import seaborn as sns"
   ]
  },
  {
   "cell_type": "code",
   "execution_count": 2,
   "id": "1b29e46e",
   "metadata": {},
   "outputs": [
    {
     "ename": "FileNotFoundError",
     "evalue": "[Errno 2] No such file or directory: 'Visadataset - Visadataset.csv'",
     "output_type": "error",
     "traceback": [
      "\u001b[1;31m---------------------------------------------------------------------------\u001b[0m",
      "\u001b[1;31mFileNotFoundError\u001b[0m                         Traceback (most recent call last)",
      "Cell \u001b[1;32mIn[2], line 1\u001b[0m\n\u001b[1;32m----> 1\u001b[0m visa_df\u001b[38;5;241m=\u001b[39mpd\u001b[38;5;241m.\u001b[39mread_csv(\u001b[38;5;124m'\u001b[39m\u001b[38;5;124mVisadataset - Visadataset.csv\u001b[39m\u001b[38;5;124m'\u001b[39m)\n\u001b[0;32m      2\u001b[0m visa_df\n",
      "File \u001b[1;32m~\\anaconda3 1\\Lib\\site-packages\\pandas\\io\\parsers\\readers.py:912\u001b[0m, in \u001b[0;36mread_csv\u001b[1;34m(filepath_or_buffer, sep, delimiter, header, names, index_col, usecols, dtype, engine, converters, true_values, false_values, skipinitialspace, skiprows, skipfooter, nrows, na_values, keep_default_na, na_filter, verbose, skip_blank_lines, parse_dates, infer_datetime_format, keep_date_col, date_parser, date_format, dayfirst, cache_dates, iterator, chunksize, compression, thousands, decimal, lineterminator, quotechar, quoting, doublequote, escapechar, comment, encoding, encoding_errors, dialect, on_bad_lines, delim_whitespace, low_memory, memory_map, float_precision, storage_options, dtype_backend)\u001b[0m\n\u001b[0;32m    899\u001b[0m kwds_defaults \u001b[38;5;241m=\u001b[39m _refine_defaults_read(\n\u001b[0;32m    900\u001b[0m     dialect,\n\u001b[0;32m    901\u001b[0m     delimiter,\n\u001b[1;32m   (...)\u001b[0m\n\u001b[0;32m    908\u001b[0m     dtype_backend\u001b[38;5;241m=\u001b[39mdtype_backend,\n\u001b[0;32m    909\u001b[0m )\n\u001b[0;32m    910\u001b[0m kwds\u001b[38;5;241m.\u001b[39mupdate(kwds_defaults)\n\u001b[1;32m--> 912\u001b[0m \u001b[38;5;28;01mreturn\u001b[39;00m _read(filepath_or_buffer, kwds)\n",
      "File \u001b[1;32m~\\anaconda3 1\\Lib\\site-packages\\pandas\\io\\parsers\\readers.py:577\u001b[0m, in \u001b[0;36m_read\u001b[1;34m(filepath_or_buffer, kwds)\u001b[0m\n\u001b[0;32m    574\u001b[0m _validate_names(kwds\u001b[38;5;241m.\u001b[39mget(\u001b[38;5;124m\"\u001b[39m\u001b[38;5;124mnames\u001b[39m\u001b[38;5;124m\"\u001b[39m, \u001b[38;5;28;01mNone\u001b[39;00m))\n\u001b[0;32m    576\u001b[0m \u001b[38;5;66;03m# Create the parser.\u001b[39;00m\n\u001b[1;32m--> 577\u001b[0m parser \u001b[38;5;241m=\u001b[39m TextFileReader(filepath_or_buffer, \u001b[38;5;241m*\u001b[39m\u001b[38;5;241m*\u001b[39mkwds)\n\u001b[0;32m    579\u001b[0m \u001b[38;5;28;01mif\u001b[39;00m chunksize \u001b[38;5;129;01mor\u001b[39;00m iterator:\n\u001b[0;32m    580\u001b[0m     \u001b[38;5;28;01mreturn\u001b[39;00m parser\n",
      "File \u001b[1;32m~\\anaconda3 1\\Lib\\site-packages\\pandas\\io\\parsers\\readers.py:1407\u001b[0m, in \u001b[0;36mTextFileReader.__init__\u001b[1;34m(self, f, engine, **kwds)\u001b[0m\n\u001b[0;32m   1404\u001b[0m     \u001b[38;5;28mself\u001b[39m\u001b[38;5;241m.\u001b[39moptions[\u001b[38;5;124m\"\u001b[39m\u001b[38;5;124mhas_index_names\u001b[39m\u001b[38;5;124m\"\u001b[39m] \u001b[38;5;241m=\u001b[39m kwds[\u001b[38;5;124m\"\u001b[39m\u001b[38;5;124mhas_index_names\u001b[39m\u001b[38;5;124m\"\u001b[39m]\n\u001b[0;32m   1406\u001b[0m \u001b[38;5;28mself\u001b[39m\u001b[38;5;241m.\u001b[39mhandles: IOHandles \u001b[38;5;241m|\u001b[39m \u001b[38;5;28;01mNone\u001b[39;00m \u001b[38;5;241m=\u001b[39m \u001b[38;5;28;01mNone\u001b[39;00m\n\u001b[1;32m-> 1407\u001b[0m \u001b[38;5;28mself\u001b[39m\u001b[38;5;241m.\u001b[39m_engine \u001b[38;5;241m=\u001b[39m \u001b[38;5;28mself\u001b[39m\u001b[38;5;241m.\u001b[39m_make_engine(f, \u001b[38;5;28mself\u001b[39m\u001b[38;5;241m.\u001b[39mengine)\n",
      "File \u001b[1;32m~\\anaconda3 1\\Lib\\site-packages\\pandas\\io\\parsers\\readers.py:1661\u001b[0m, in \u001b[0;36mTextFileReader._make_engine\u001b[1;34m(self, f, engine)\u001b[0m\n\u001b[0;32m   1659\u001b[0m     \u001b[38;5;28;01mif\u001b[39;00m \u001b[38;5;124m\"\u001b[39m\u001b[38;5;124mb\u001b[39m\u001b[38;5;124m\"\u001b[39m \u001b[38;5;129;01mnot\u001b[39;00m \u001b[38;5;129;01min\u001b[39;00m mode:\n\u001b[0;32m   1660\u001b[0m         mode \u001b[38;5;241m+\u001b[39m\u001b[38;5;241m=\u001b[39m \u001b[38;5;124m\"\u001b[39m\u001b[38;5;124mb\u001b[39m\u001b[38;5;124m\"\u001b[39m\n\u001b[1;32m-> 1661\u001b[0m \u001b[38;5;28mself\u001b[39m\u001b[38;5;241m.\u001b[39mhandles \u001b[38;5;241m=\u001b[39m get_handle(\n\u001b[0;32m   1662\u001b[0m     f,\n\u001b[0;32m   1663\u001b[0m     mode,\n\u001b[0;32m   1664\u001b[0m     encoding\u001b[38;5;241m=\u001b[39m\u001b[38;5;28mself\u001b[39m\u001b[38;5;241m.\u001b[39moptions\u001b[38;5;241m.\u001b[39mget(\u001b[38;5;124m\"\u001b[39m\u001b[38;5;124mencoding\u001b[39m\u001b[38;5;124m\"\u001b[39m, \u001b[38;5;28;01mNone\u001b[39;00m),\n\u001b[0;32m   1665\u001b[0m     compression\u001b[38;5;241m=\u001b[39m\u001b[38;5;28mself\u001b[39m\u001b[38;5;241m.\u001b[39moptions\u001b[38;5;241m.\u001b[39mget(\u001b[38;5;124m\"\u001b[39m\u001b[38;5;124mcompression\u001b[39m\u001b[38;5;124m\"\u001b[39m, \u001b[38;5;28;01mNone\u001b[39;00m),\n\u001b[0;32m   1666\u001b[0m     memory_map\u001b[38;5;241m=\u001b[39m\u001b[38;5;28mself\u001b[39m\u001b[38;5;241m.\u001b[39moptions\u001b[38;5;241m.\u001b[39mget(\u001b[38;5;124m\"\u001b[39m\u001b[38;5;124mmemory_map\u001b[39m\u001b[38;5;124m\"\u001b[39m, \u001b[38;5;28;01mFalse\u001b[39;00m),\n\u001b[0;32m   1667\u001b[0m     is_text\u001b[38;5;241m=\u001b[39mis_text,\n\u001b[0;32m   1668\u001b[0m     errors\u001b[38;5;241m=\u001b[39m\u001b[38;5;28mself\u001b[39m\u001b[38;5;241m.\u001b[39moptions\u001b[38;5;241m.\u001b[39mget(\u001b[38;5;124m\"\u001b[39m\u001b[38;5;124mencoding_errors\u001b[39m\u001b[38;5;124m\"\u001b[39m, \u001b[38;5;124m\"\u001b[39m\u001b[38;5;124mstrict\u001b[39m\u001b[38;5;124m\"\u001b[39m),\n\u001b[0;32m   1669\u001b[0m     storage_options\u001b[38;5;241m=\u001b[39m\u001b[38;5;28mself\u001b[39m\u001b[38;5;241m.\u001b[39moptions\u001b[38;5;241m.\u001b[39mget(\u001b[38;5;124m\"\u001b[39m\u001b[38;5;124mstorage_options\u001b[39m\u001b[38;5;124m\"\u001b[39m, \u001b[38;5;28;01mNone\u001b[39;00m),\n\u001b[0;32m   1670\u001b[0m )\n\u001b[0;32m   1671\u001b[0m \u001b[38;5;28;01massert\u001b[39;00m \u001b[38;5;28mself\u001b[39m\u001b[38;5;241m.\u001b[39mhandles \u001b[38;5;129;01mis\u001b[39;00m \u001b[38;5;129;01mnot\u001b[39;00m \u001b[38;5;28;01mNone\u001b[39;00m\n\u001b[0;32m   1672\u001b[0m f \u001b[38;5;241m=\u001b[39m \u001b[38;5;28mself\u001b[39m\u001b[38;5;241m.\u001b[39mhandles\u001b[38;5;241m.\u001b[39mhandle\n",
      "File \u001b[1;32m~\\anaconda3 1\\Lib\\site-packages\\pandas\\io\\common.py:859\u001b[0m, in \u001b[0;36mget_handle\u001b[1;34m(path_or_buf, mode, encoding, compression, memory_map, is_text, errors, storage_options)\u001b[0m\n\u001b[0;32m    854\u001b[0m \u001b[38;5;28;01melif\u001b[39;00m \u001b[38;5;28misinstance\u001b[39m(handle, \u001b[38;5;28mstr\u001b[39m):\n\u001b[0;32m    855\u001b[0m     \u001b[38;5;66;03m# Check whether the filename is to be opened in binary mode.\u001b[39;00m\n\u001b[0;32m    856\u001b[0m     \u001b[38;5;66;03m# Binary mode does not support 'encoding' and 'newline'.\u001b[39;00m\n\u001b[0;32m    857\u001b[0m     \u001b[38;5;28;01mif\u001b[39;00m ioargs\u001b[38;5;241m.\u001b[39mencoding \u001b[38;5;129;01mand\u001b[39;00m \u001b[38;5;124m\"\u001b[39m\u001b[38;5;124mb\u001b[39m\u001b[38;5;124m\"\u001b[39m \u001b[38;5;129;01mnot\u001b[39;00m \u001b[38;5;129;01min\u001b[39;00m ioargs\u001b[38;5;241m.\u001b[39mmode:\n\u001b[0;32m    858\u001b[0m         \u001b[38;5;66;03m# Encoding\u001b[39;00m\n\u001b[1;32m--> 859\u001b[0m         handle \u001b[38;5;241m=\u001b[39m \u001b[38;5;28mopen\u001b[39m(\n\u001b[0;32m    860\u001b[0m             handle,\n\u001b[0;32m    861\u001b[0m             ioargs\u001b[38;5;241m.\u001b[39mmode,\n\u001b[0;32m    862\u001b[0m             encoding\u001b[38;5;241m=\u001b[39mioargs\u001b[38;5;241m.\u001b[39mencoding,\n\u001b[0;32m    863\u001b[0m             errors\u001b[38;5;241m=\u001b[39merrors,\n\u001b[0;32m    864\u001b[0m             newline\u001b[38;5;241m=\u001b[39m\u001b[38;5;124m\"\u001b[39m\u001b[38;5;124m\"\u001b[39m,\n\u001b[0;32m    865\u001b[0m         )\n\u001b[0;32m    866\u001b[0m     \u001b[38;5;28;01melse\u001b[39;00m:\n\u001b[0;32m    867\u001b[0m         \u001b[38;5;66;03m# Binary mode\u001b[39;00m\n\u001b[0;32m    868\u001b[0m         handle \u001b[38;5;241m=\u001b[39m \u001b[38;5;28mopen\u001b[39m(handle, ioargs\u001b[38;5;241m.\u001b[39mmode)\n",
      "\u001b[1;31mFileNotFoundError\u001b[0m: [Errno 2] No such file or directory: 'Visadataset - Visadataset.csv'"
     ]
    }
   ],
   "source": [
    "visa_df=pd.read_csv()\n",
    "visa_df"
   ]
  },
  {
   "cell_type": "code",
   "execution_count": null,
   "id": "7baa174f",
   "metadata": {},
   "outputs": [],
   "source": [
    "education_of_employee=visa_df['education_of_employee'].unique()\n",
    "education_of_employee"
   ]
  },
  {
   "cell_type": "code",
   "execution_count": null,
   "id": "1bf6094a",
   "metadata": {},
   "outputs": [],
   "source": [
    "ee=[]\n",
    "for i in education_of_employee:\n",
    "    e_of_e=visa_df['education_of_employee']==i\n",
    "    value=len(visa_df[e_of_e])\n",
    "    ee.append(value)\n",
    "    print(f'{i}:{value}')"
   ]
  },
  {
   "cell_type": "code",
   "execution_count": null,
   "id": "5cdf386e",
   "metadata": {},
   "outputs": [],
   "source": [
    "education_of_employee_df=pd.DataFrame(zip(education_of_employee,ee),columns=['education_of_employee','count'])\n",
    "education_of_employee_df"
   ]
  },
  {
   "cell_type": "code",
   "execution_count": null,
   "id": "32d53b8e",
   "metadata": {},
   "outputs": [],
   "source": [
    "education_of_employee_df.to_csv(\"education_of_employee_df.csv\",index=False)"
   ]
  },
  {
   "cell_type": "code",
   "execution_count": null,
   "id": "ef6521e2",
   "metadata": {},
   "outputs": [],
   "source": [
    "plp.figure(figsize=(8,5))\n",
    "plp.bar('education_of_employee','count',data=education_of_employee_df)\n",
    "plp.xlabel('Education Level')\n",
    "plp.ylabel('Number of Employees')\n",
    "plp.title('Number of Employees by Education Level')\n",
    "plp.show()"
   ]
  },
  {
   "cell_type": "code",
   "execution_count": null,
   "id": "96d5612a",
   "metadata": {},
   "outputs": [],
   "source": [
    "e=visa_df['education_of_employee'].value_counts()\n",
    "keys=e.keys()\n",
    "sns.countplot(data=visa_df,x='education_of_employee',order=keys)\n",
    "plp.xlabel('Education Level')\n",
    "plp.ylabel('Number of Employees')\n",
    "plp.title('Number of Employees by Education Level')\n",
    "plp.show()"
   ]
  },
  {
   "cell_type": "code",
   "execution_count": null,
   "id": "4159f054",
   "metadata": {},
   "outputs": [],
   "source": [
    "ax=e.plot(kind='bar')\n",
    "ax.bar_label(ax.containers[0])\n",
    "plp.show()"
   ]
  },
  {
   "cell_type": "code",
   "execution_count": null,
   "id": "4248db91",
   "metadata": {},
   "outputs": [],
   "source": [
    "cdf=visa_df['education_of_employee'].value_counts()\n",
    "keys=cdf.keys()\n",
    "values=cdf.values\n",
    "keys,values"
   ]
  },
  {
   "cell_type": "code",
   "execution_count": null,
   "id": "b2cffc53",
   "metadata": {},
   "outputs": [],
   "source": [
    "plp.pie(values,explode=[0.1,0.1,0.1,0.1],labels=keys,autopct=\"%0.2f%%\",startangle=180,radius=1)\n",
    "plp.show()"
   ]
  },
  {
   "cell_type": "code",
   "execution_count": null,
   "id": "7bf6b974",
   "metadata": {},
   "outputs": [],
   "source": [
    "region_of_employment=visa_df['region_of_employment'].unique()\n",
    "region_of_employment"
   ]
  },
  {
   "cell_type": "code",
   "execution_count": null,
   "id": "935226d4",
   "metadata": {},
   "outputs": [],
   "source": []
  },
  {
   "cell_type": "code",
   "execution_count": null,
   "id": "51b968cb",
   "metadata": {},
   "outputs": [],
   "source": [
    "re=[]\n",
    "for i in region_of_employment:\n",
    "    r_of_e=visa_df['region_of_employment']==i\n",
    "    value=len(visa_df[r_of_e])\n",
    "    re.append(value)\n",
    "    print(f'{i}:{value}')"
   ]
  },
  {
   "cell_type": "code",
   "execution_count": null,
   "id": "74430e48",
   "metadata": {},
   "outputs": [],
   "source": [
    "region_of_employment_df=pd.DataFrame(zip(region_of_employment,re),columns=['region_of_employment','count'])\n",
    "region_of_employment_df"
   ]
  },
  {
   "cell_type": "code",
   "execution_count": null,
   "id": "321427e5",
   "metadata": {},
   "outputs": [],
   "source": [
    "region_of_employment_df.to_csv('region_of_employment_df.csv',index=False)"
   ]
  },
  {
   "cell_type": "code",
   "execution_count": null,
   "id": "895a2d4a",
   "metadata": {},
   "outputs": [],
   "source": [
    "plp.figure(figsize=(8,5))\n",
    "plp.bar('region_of_employment','count',data=region_of_employment_df)\n",
    "plp.xlabel('region')\n",
    "plp.ylabel('count')\n",
    "plp.title('region_of_employment')\n",
    "plp.show()"
   ]
  },
  {
   "cell_type": "code",
   "execution_count": null,
   "id": "0d719a8d",
   "metadata": {},
   "outputs": [],
   "source": [
    "a=visa_df['region_of_employment'].value_counts()\n",
    "key=a.keys()\n",
    "values=a.values\n",
    "sns.countplot(data=visa_df,x='region_of_employment',order=key)\n",
    "plp.title('region_of_employment')\n",
    "plp.xlabel('region')\n",
    "plp.show()"
   ]
  },
  {
   "cell_type": "code",
   "execution_count": null,
   "id": "0fd4beae",
   "metadata": {},
   "outputs": [],
   "source": [
    "key,values"
   ]
  },
  {
   "cell_type": "code",
   "execution_count": null,
   "id": "10e65f4a",
   "metadata": {},
   "outputs": [],
   "source": [
    "b=a.plot(kind='bar')\n",
    "b.bar_label(b.containers[0])\n",
    "plp.xlabel('region')\n",
    "plp.ylabel('count')\n",
    "plp.title('region_of_employment')\n",
    "plp.show()"
   ]
  },
  {
   "cell_type": "code",
   "execution_count": null,
   "id": "973b14b9",
   "metadata": {},
   "outputs": [],
   "source": [
    "plp.pie(values,explode=[0.01,0.01,0.01,0.01,0.01],labels=key,autopct='%0.2f%%',startangle=180,radius=1)\n",
    "plp.show()"
   ]
  },
  {
   "cell_type": "code",
   "execution_count": null,
   "id": "88e8b94b",
   "metadata": {},
   "outputs": [],
   "source": [
    "uniqe_case_status=visa_df['case_status'].unique()\n",
    "uniqe_case_status"
   ]
  },
  {
   "cell_type": "code",
   "execution_count": null,
   "id": "e75a25ba",
   "metadata": {},
   "outputs": [],
   "source": [
    "c_c_s=[]\n",
    "for i in uniqe_case_status:\n",
    "    c_t=visa_df['case_status']==i\n",
    "    value=len(visa_df[c_t])\n",
    "    c_c_s.append(value)\n",
    "    print(f'{i}:{value}')"
   ]
  },
  {
   "cell_type": "code",
   "execution_count": null,
   "id": "cd69de75",
   "metadata": {},
   "outputs": [],
   "source": [
    "case_status_df=pd.DataFrame(zip(uniqe_case_status,c_c_s),columns=['case_status','count'])\n",
    "case_status_df"
   ]
  },
  {
   "cell_type": "code",
   "execution_count": null,
   "id": "f2117e78",
   "metadata": {},
   "outputs": [],
   "source": [
    "case_status_df.to_csv('case_status_df.csv',index=False)"
   ]
  },
  {
   "cell_type": "code",
   "execution_count": null,
   "id": "554bb18f",
   "metadata": {},
   "outputs": [],
   "source": []
  }
 ],
 "metadata": {
  "kernelspec": {
   "display_name": "Python 3 (ipykernel)",
   "language": "python",
   "name": "python3"
  },
  "language_info": {
   "codemirror_mode": {
    "name": "ipython",
    "version": 3
   },
   "file_extension": ".py",
   "mimetype": "text/x-python",
   "name": "python",
   "nbconvert_exporter": "python",
   "pygments_lexer": "ipython3",
   "version": "3.11.5"
  }
 },
 "nbformat": 4,
 "nbformat_minor": 5
}
